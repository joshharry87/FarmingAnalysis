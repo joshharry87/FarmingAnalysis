{
 "cells": [
  {
   "cell_type": "markdown",
   "metadata": {},
   "source": [
    "# Australian Farming Exploratory Analysis\n",
    "### Data Sources : ABS - yearly quantititive data for various farming industry trends, Stock Prices, GDP etc.\n",
    "\n"
   ]
  },
  {
   "cell_type": "code",
   "execution_count": null,
   "metadata": {},
   "outputs": [],
   "source": [
    "import os \n",
    "\n",
    "\n",
    "def getData():\n",
    "    indexed_files = {}\n",
    "    for file, dir in os.walk():\n",
    "        with open(file) as o:\n",
    "            data = o.read()\n",
    "            indexed_files[file] = data\n",
    "            o.close()\n",
    "    \n",
    "    return indexed_files\n",
    "            \n",
    "\n",
    "            \n",
    "            "
   ]
  },
  {
   "cell_type": "code",
   "execution_count": null,
   "metadata": {},
   "outputs": [],
   "source": [
    "indexed_data = getData()"
   ]
  }
 ],
 "metadata": {
  "language_info": {
   "name": "python"
  }
 },
 "nbformat": 4,
 "nbformat_minor": 2
}
